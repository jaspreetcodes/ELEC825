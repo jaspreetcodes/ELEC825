{
 "cells": [
  {
   "cell_type": "code",
   "execution_count": 11,
   "id": "b97cca26-ccec-40ad-a5d3-ef94be4a3dfd",
   "metadata": {},
   "outputs": [],
   "source": [
    "import tensorflow as tf\n",
    "from zipfile import ZipFile\n",
    "import os,glob\n",
    "import cv2\n",
    "#from tqdm._tqdm_notebook import tqdm.notebook.* as tqdm\n",
    "import numpy as np\n",
    "import pandas as pd\n",
    "import matplotlib.pyplot as plt\n"
   ]
  },
  {
   "cell_type": "code",
   "execution_count": 8,
   "id": "16280639-a5bb-45c3-a34e-4894ee112bcd",
   "metadata": {},
   "outputs": [],
   "source": [
    "# import pandas as pd\n",
    "# # df = pf.DataFrame.from_csv('Data_Entry_2017_v2020.csv')\n",
    "\n",
    "# # for _, row in df.iterrows():\n",
    "# #   f = row['Image Index']\n",
    "# #   l = row['Finding Labels']\n",
    "# #   os.replace(f'images/{f}', f'images/{l}/{f}')\n",
    "\n",
    "\n",
    "# # Read the CSV file into a DataFrame\n",
    "# df = pd.read_csv('Data_Entry_2017_v2020.csv')\n",
    "\n",
    "# # Get the unique values from a specific row\n",
    "# unique_values = df['Finding Labels'].unique()\n",
    "\n",
    "# # Print the unique values\n",
    "# # for value in unique_values:\n",
    "# #     print(value)\n",
    "\n",
    "# df = pd.read_csv('train_val_list.csv')\n",
    "# name_list = df['train_image_names'].tolist()  # Assuming the column name is 'name'\n",
    "\n",
    "from pathlib import Path\n",
    "# img = np.array()\n",
    "# img1 = np.append(img, ...)\n",
    "# image_folder = Path('/images/images')\n",
    "\n",
    "# for image_path in image_folder.glob('*.png'):  # Assuming the images have the .jpg extension\n",
    "#     image_name = image_path.stem  # Get the name of the image without the extension\n",
    "\n",
    "#     # Check if the image name is in the list\n",
    "#     if image_name in name_list:\n",
    "#         # Move the image to the first subfolder\n",
    "#         image_path.rename(image_folder / 'train_image_subfolder' / image_path.name)\n",
    "#     else:\n",
    "#         # Move the image to the second subfolder\n",
    "#         image_path.rename(image_folder / 'test_image_subfolder' / image_path.name)\n",
    "# from pathlib import Path\n",
    "\n",
    "# image_folder = Path('path/to/image/folder')\n",
    "\n",
    "# for image_path in image_folder.glob('*.jpg'):  # Assuming the images have the .jpg extension\n",
    "#     image_name = image_path.stem  # Get the name of the image without the extension\n",
    "\n",
    "#     # Check if the image name is in the list\n",
    "#     if image_name in name_list:\n",
    "#         # Move the image to the first subfolder\n",
    "#         image_path.rename(image_folder / 'subfolder1' / image_path.name)\n",
    "#     else:\n",
    "#         # Move the image to the second subfolder\n",
    "#         image_path.rename(image_folder / 'subfolder2' / image_path.name)\n",
    "\n"
   ]
  },
  {
   "cell_type": "code",
   "execution_count": null,
   "id": "363b1cc4-877c-4e68-ac2a-31a70253b09f",
   "metadata": {},
   "outputs": [],
   "source": []
  },
  {
   "cell_type": "code",
   "execution_count": 8,
   "id": "5e20a17d-e751-4130-96b9-b7722220900e",
   "metadata": {},
   "outputs": [
    {
     "data": {
      "application/vnd.jupyter.widget-view+json": {
       "model_id": "565c14a906624393bc376172ae7eb091",
       "version_major": 2,
       "version_minor": 0
      },
      "text/plain": [
       "  0%|          | 0/12 [00:00<?, ?it/s]"
      ]
     },
     "metadata": {},
     "output_type": "display_data"
    },
    {
     "ename": "error",
     "evalue": "OpenCV(4.8.1) D:\\a\\opencv-python\\opencv-python\\opencv\\modules\\imgproc\\src\\resize.cpp:4062: error: (-215:Assertion failed) !ssize.empty() in function 'cv::resize'\n",
     "output_type": "error",
     "traceback": [
      "\u001b[1;31m---------------------------------------------------------------------------\u001b[0m",
      "\u001b[1;31merror\u001b[0m                                     Traceback (most recent call last)",
      "Cell \u001b[1;32mIn[8], line 5\u001b[0m\n\u001b[0;32m      3\u001b[0m \u001b[38;5;28;01mfor\u001b[39;00m i \u001b[38;5;129;01min\u001b[39;00m tqdm(os\u001b[38;5;241m.\u001b[39mlistdir()):\n\u001b[0;32m      4\u001b[0m       img \u001b[38;5;241m=\u001b[39m cv2\u001b[38;5;241m.\u001b[39mimread(i)\n\u001b[1;32m----> 5\u001b[0m       img \u001b[38;5;241m=\u001b[39m cv2\u001b[38;5;241m.\u001b[39mresize(img,(\u001b[38;5;241m224\u001b[39m,\u001b[38;5;241m224\u001b[39m))\n\u001b[0;32m      6\u001b[0m       X\u001b[38;5;241m.\u001b[39mappend(img)\n\u001b[0;32m      7\u001b[0m       y\u001b[38;5;241m.\u001b[39mappend((i[\u001b[38;5;241m0\u001b[39m:\u001b[38;5;241m1\u001b[39m]))\n",
      "\u001b[1;31merror\u001b[0m: OpenCV(4.8.1) D:\\a\\opencv-python\\opencv-python\\opencv\\modules\\imgproc\\src\\resize.cpp:4062: error: (-215:Assertion failed) !ssize.empty() in function 'cv::resize'\n"
     ]
    }
   ],
   "source": [
    "\n",
    "X = []\n",
    "y = []\n",
    "for i in tqdm(os.listdir()):\n",
    "      img = cv2.imread(i)\n",
    "      img = cv2.resize(img,(224,224))\n",
    "      X.append(img)\n",
    "      y.append((i[0:1]))\n",
    "      print(i[0:1])\n",
    "os.chdir('/content/no')\n",
    "for i in tqdm(os.listdir()):\n",
    "      img = cv2.imread(i)\n",
    "      img = cv2.resize(img,(224,224))\n",
    "      X.append(img)\n",
    "for i in range(1,99):\n",
    "    y.append('N')\n",
    "print(y)"
   ]
  },
  {
   "cell_type": "code",
   "execution_count": 1,
   "id": "7e57a07c-f71c-4945-8c60-06be724cd2fb",
   "metadata": {
    "tags": []
   },
   "outputs": [
    {
     "ename": "IndentationError",
     "evalue": "expected an indented block after function definition on line 44 (3157754603.py, line 45)",
     "output_type": "error",
     "traceback": [
      "\u001b[1;36m  Cell \u001b[1;32mIn[1], line 45\u001b[1;36m\u001b[0m\n\u001b[1;33m    \"\"\"creates the top or head of the model that will be\u001b[0m\n\u001b[1;37m    ^\u001b[0m\n\u001b[1;31mIndentationError\u001b[0m\u001b[1;31m:\u001b[0m expected an indented block after function definition on line 44\n"
     ]
    }
   ],
   "source": [
    "\n",
    "%matplotlib inline\n",
    "import matplotlib.pyplot as plt\n",
    "plt.figure(figsize=(10, 10))\n",
    "for i in range(4):\n",
    "    plt.subplot(1, 4, i+1)\n",
    "    plt.imshow(X[i], cmap=\"gray\")\n",
    "    plt.axis('off')\n",
    "plt.show()\n"
   ]
  },
  {
   "cell_type": "code",
   "execution_count": 1,
   "id": "a48aaaa7-1f3a-4b27-b637-e014eb959bae",
   "metadata": {},
   "outputs": [
    {
     "ename": "NameError",
     "evalue": "name 'train_test_split' is not defined",
     "output_type": "error",
     "traceback": [
      "\u001b[1;31m---------------------------------------------------------------------------\u001b[0m",
      "\u001b[1;31mNameError\u001b[0m                                 Traceback (most recent call last)",
      "Cell \u001b[1;32mIn[1], line 1\u001b[0m\n\u001b[1;32m----> 1\u001b[0m X_train, X_test, y_train, y_test \u001b[38;5;241m=\u001b[39m train_test_split(images, labels, test_size\u001b[38;5;241m=\u001b[39m\u001b[38;5;241m0.33\u001b[39m, random_state\u001b[38;5;241m=\u001b[39m\u001b[38;5;241m42\u001b[39m)\n\u001b[0;32m      2\u001b[0m \u001b[38;5;28mprint\u001b[39m (\u001b[38;5;124m\"\u001b[39m\u001b[38;5;124mShape of an image in X_train: \u001b[39m\u001b[38;5;124m\"\u001b[39m, X_train[\u001b[38;5;241m0\u001b[39m]\u001b[38;5;241m.\u001b[39mshape)\n\u001b[0;32m      3\u001b[0m \u001b[38;5;28mprint\u001b[39m (\u001b[38;5;124m\"\u001b[39m\u001b[38;5;124mShape of an image in X_test: \u001b[39m\u001b[38;5;124m\"\u001b[39m, X_test[\u001b[38;5;241m0\u001b[39m]\u001b[38;5;241m.\u001b[39mshape)\n",
      "\u001b[1;31mNameError\u001b[0m: name 'train_test_split' is not defined"
     ]
    }
   ],
   "source": [
    "\n",
    "X_train, X_test, y_train, y_test = train_test_split(images, labels, test_size=0.33, random_state=42)\n",
    "print (\"Shape of an image in X_train: \", X_train[0].shape)\n",
    "print (\"Shape of an image in X_test: \", X_test[0].shape)\n",
    "le = preprocessing.LabelEncoder()\n"
   ]
  },
  {
   "cell_type": "code",
   "execution_count": null,
   "id": "e9e92bff-cfb6-43fe-b906-5d87bea7ad8b",
   "metadata": {},
   "outputs": [],
   "source": [
    "y_train = le.fit_transform(y_train)\n",
    "y_test = le.fit_transform(y_test)\n",
    "y_train = tf.keras.utils.to_categorical(y_train, num_classes=2)\n",
    "y_test = tf.keras.utils.to_categorical(y_test, num_classes=2)\n",
    "y_train = np.array(y_train)\n",
    "X_train = np.array(X_train)\n",
    "y_test = np.array(y_test)\n",
    "X_test = np.array(X_test)\n",
    "print(\"X_train Shape: \", X_train.shape)\n",
    "print(\"X_test Shape: \", X_test.shape)\n",
    "print(\"y_train Shape: \", y_train.shape)\n",
    "print(\"y_test Shape: \", y_test.shape)\n",
    "from keras.applications import vgg16\n",
    "\n",
    "\n",
    "img_rows, img_cols = 224, 224\n",
    "\n",
    "\n",
    "vgg = vgg16.VGG16(weights = 'imagenet',\n",
    "                 include_top = False,\n",
    "                 input_shape = (img_rows, img_cols, 3))\n"
   ]
  },
  {
   "cell_type": "code",
   "execution_count": null,
   "id": "187723de-74e1-42ca-96af-aea9c2531e48",
   "metadata": {},
   "outputs": [],
   "source": [
    "\n",
    "# Here we freeze the last 4 layers\n",
    "# Layers are set to trainable as True by default\n",
    "for layer in vgg.layers:\n",
    "    layer.trainable = False\n",
    "\n",
    "# Let's print our layers\n",
    "for (i,layer) in enumerate(vgg.layers):\n",
    "    print(str(i) + \" \"+ layer.__class__.__name__, layer.trainable)\n",
    "    def lw(bottom_model, num_classes):\n",
    "    \"\"\"creates the top or head of the model that will be\n",
    "    placed ontop of the bottom layers\"\"\"\n",
    "\n",
    "    top_model = bottom_model.output\n",
    "    top_model = GlobalAveragePooling2D()(top_model)\n",
    "    top_model = Dense(1024,activation='relu')(top_model)\n",
    "    top_model = Dense(1024,activation='relu')(top_model)\n",
    "    top_model = Dense(512,activation='relu')(top_model)\n",
    "    top_model = Dense(num_classes,activation='softmax')(top_model)\n",
    "    return top_model\n",
    "    "
   ]
  },
  {
   "cell_type": "code",
   "execution_count": null,
   "id": "462f904c-6b8d-485d-aec9-e0b063d9dd8e",
   "metadata": {},
   "outputs": [],
   "source": [
    "from keras.models import Sequential\n",
    "from keras.layers import Dense, Dropout, Activation, Flatten, GlobalAveragePooling2D\n",
    "from keras.layers import Conv2D, MaxPooling2D, ZeroPadding2D\n",
    "\n",
    "from keras.models import Model\n",
    "\n",
    "\n",
    "num_classes = 2\n",
    "\n",
    "FC_Head = lw(vgg, num_classes)\n",
    "\n",
    "model = Model(inputs = vgg.input, outputs = FC_Head)\n",
    "\n",
    "print(model.summary())\n",
    "from tensorflow.keras.models import Model\n",
    "model.compile(optimizer='adam', loss = 'categorical_crossentropy',metrics = ['accuracy'])\n",
    "history = model.fit(X_train,y_train,\n",
    "                    epochs=5,\n",
    "                    validation_data=(X_test,y_test),\n",
    "                    verbose = 1,\n",
    "                    initial_epoch=0)"
   ]
  },
  {
   "cell_type": "code",
   "execution_count": null,
   "id": "22446ec0-7f61-4ee6-a390-f641fd6180f5",
   "metadata": {},
   "outputs": [],
   "source": [
    "import matplotlib.pyplot as plt\n",
    "%matplotlib inline\n",
    "acc = history.history['accuracy']\n",
    "val_acc = history.history['val_accuracy']\n",
    "loss = history.history['loss']\n",
    "val_loss = history.history['val_loss']\n",
    "\n",
    "epochs = range(len(acc))\n",
    "\n",
    "plt.plot(epochs, acc, 'r', label='Training accuracy')\n",
    "plt.plot(epochs, val_acc, 'b', label='Validation accuracy')\n",
    "plt.title('Training and validation accuracy')\n",
    "plt.legend(loc=0)\n",
    "plt.figure()\n",
    "\n",
    "plt.show()"
   ]
  },
  {
   "cell_type": "code",
   "execution_count": 28,
   "id": "b4c83714",
   "metadata": {},
   "outputs": [],
   "source": [
    "test_list = pd.read_csv(\"test_list.csv\")"
   ]
  },
  {
   "cell_type": "code",
   "execution_count": 29,
   "id": "4fc6e28c",
   "metadata": {},
   "outputs": [],
   "source": [
    "for name in test_list[\"test_image_names\"].values:\n",
    "    shutil.move(f\"images/{name}\", f\"test/{name}\")"
   ]
  },
  {
   "cell_type": "code",
   "execution_count": 25,
   "id": "bb000eb7",
   "metadata": {},
   "outputs": [],
   "source": [
    "import shutil\n",
    "import os"
   ]
  },
  {
   "cell_type": "code",
   "execution_count": 27,
   "id": "1c40f463",
   "metadata": {
    "scrolled": true
   },
   "outputs": [
    {
     "data": {
      "text/plain": [
       "'test/00000001_000.png'"
      ]
     },
     "execution_count": 27,
     "metadata": {},
     "output_type": "execute_result"
    }
   ],
   "source": [
    "shutil.move(\"images/00000001_000.png\", \"test/00000001_000.png\")"
   ]
  },
  {
   "cell_type": "code",
   "execution_count": null,
   "id": "33bb6f3e",
   "metadata": {},
   "outputs": [],
   "source": [
    "os."
   ]
  }
 ],
 "metadata": {
  "kernelspec": {
   "display_name": "Python 3 (ipykernel)",
   "language": "python",
   "name": "python3"
  },
  "language_info": {
   "codemirror_mode": {
    "name": "ipython",
    "version": 3
   },
   "file_extension": ".py",
   "mimetype": "text/x-python",
   "name": "python",
   "nbconvert_exporter": "python",
   "pygments_lexer": "ipython3",
   "version": "3.11.5"
  }
 },
 "nbformat": 4,
 "nbformat_minor": 5
}
